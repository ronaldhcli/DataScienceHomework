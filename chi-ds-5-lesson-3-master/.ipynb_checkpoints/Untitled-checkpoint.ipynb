{
 "cells": [
  {
   "cell_type": "code",
   "execution_count": 21,
   "metadata": {
    "collapsed": true
   },
   "outputs": [],
   "source": [
    "import pandas as pd\n",
    "import numpy as np\n"
   ]
  },
  {
   "cell_type": "code",
   "execution_count": 22,
   "metadata": {
    "collapsed": false
   },
   "outputs": [
    {
     "data": {
      "text/plain": [
       "['Unnamed: 0',\n",
       " 'mpg',\n",
       " 'cyl',\n",
       " 'disp',\n",
       " 'hp',\n",
       " 'drat',\n",
       " 'wt',\n",
       " 'qsec',\n",
       " 'vs',\n",
       " 'am',\n",
       " 'gear',\n",
       " 'carb']"
      ]
     },
     "execution_count": 22,
     "metadata": {},
     "output_type": "execute_result"
    }
   ],
   "source": [
    "df = pd.read_csv(\"mtcars.csv\")\n",
    "\n",
    "list(df.columns.values)\n",
    "\n",
    "#data dictionary: [, 1]\tmpg\tMiles/(US) gallon\n",
    "#[, 2]\tcyl\tNumber of cylinders\n",
    "#[, 3]\tdisp\tDisplacement (cu.in.)\n",
    "#[, 4]\thp\tGross horsepower\n",
    "#[, 5]\tdrat\tRear axle ratio\n",
    "#[, 6]\twt\tWeight (1000 lbs)\n",
    "#[, 7]\tqsec\t1/4 mile time\n",
    "#[, 8]\tvs\tV/S, whether it has a v engine or straight engine\n",
    "#[, 9]\tam\tTransmission (0 = automatic, 1 = manual)\n",
    "#[,10]\tgear\tNumber of forward gears\n",
    "#[,11]\tcarb\tNumber of carburetors"
   ]
  },
  {
   "cell_type": "code",
   "execution_count": 23,
   "metadata": {
    "collapsed": false,
    "scrolled": true
   },
   "outputs": [
    {
     "name": "stdout",
     "output_type": "stream",
     "text": [
      "0               Mazda RX4\n",
      "1           Mazda RX4 Wag\n",
      "2              Datsun 710\n",
      "3          Hornet 4 Drive\n",
      "4       Hornet Sportabout\n",
      "5                 Valiant\n",
      "6              Duster 360\n",
      "7               Merc 240D\n",
      "8                Merc 230\n",
      "9                Merc 280\n",
      "10              Merc 280C\n",
      "11             Merc 450SE\n",
      "12             Merc 450SL\n",
      "13            Merc 450SLC\n",
      "14     Cadillac Fleetwood\n",
      "15    Lincoln Continental\n",
      "16      Chrysler Imperial\n",
      "17               Fiat 128\n",
      "18            Honda Civic\n",
      "19         Toyota Corolla\n",
      "20          Toyota Corona\n",
      "21       Dodge Challenger\n",
      "22            AMC Javelin\n",
      "23             Camaro Z28\n",
      "24       Pontiac Firebird\n",
      "25              Fiat X1-9\n",
      "26          Porsche 914-2\n",
      "27           Lotus Europa\n",
      "28         Ford Pantera L\n",
      "29           Ferrari Dino\n",
      "30          Maserati Bora\n",
      "31             Volvo 142E\n",
      "Name: Unnamed: 0, dtype: object\n",
      "0        Mazda\n",
      "1        Mazda\n",
      "2       Datsun\n",
      "3       Hornet\n",
      "4       Hornet\n",
      "5      Valiant\n",
      "6       Duster\n",
      "7         Merc\n",
      "8         Merc\n",
      "9         Merc\n",
      "10        Merc\n",
      "11        Merc\n",
      "12        Merc\n",
      "13        Merc\n",
      "14    Cadillac\n",
      "15     Lincoln\n",
      "16    Chrysler\n",
      "17        Fiat\n",
      "18       Honda\n",
      "19      Toyota\n",
      "20      Toyota\n",
      "21       Dodge\n",
      "22         AMC\n",
      "23      Camaro\n",
      "24     Pontiac\n",
      "25        Fiat\n",
      "26     Porsche\n",
      "27       Lotus\n",
      "28        Ford\n",
      "29     Ferrari\n",
      "30    Maserati\n",
      "31       Volvo\n",
      "Name: Car_brand, dtype: object\n"
     ]
    }
   ],
   "source": [
    "print df['Unnamed: 0']\n",
    "df['Model_name'] = df['Unnamed: 0'].astype(str)\n",
    "df['Car_brand'] = df['Model_name'].str.split(' ').str.get(0)\n",
    "df['Car_brand'] = df['Car_brand'].apply(lambda x: x.strip())\n",
    "print df['Car_brand']"
   ]
  },
  {
   "cell_type": "code",
   "execution_count": 20,
   "metadata": {
    "collapsed": false
   },
   "outputs": [
    {
     "name": "stdout",
     "output_type": "stream",
     "text": [
      "22\n"
     ]
    }
   ],
   "source": [
    "#find the number of different car brands\n",
    "seen_brands =[]\n",
    "unique_brands = 0\n",
    "for i in df['Car_brand']:\n",
    "    if i in seen_brands:\n",
    "        continue\n",
    "    unique_brands = unique_brands +1\n",
    "    seen_brands.append(i)\n",
    "\n",
    "\n",
    "print unique_brands\n",
    "    "
   ]
  },
  {
   "cell_type": "code",
   "execution_count": 19,
   "metadata": {
    "collapsed": false
   },
   "outputs": [
    {
     "name": "stdout",
     "output_type": "stream",
     "text": [
      "0     1\n",
      "1     1\n",
      "2     0\n",
      "3     0\n",
      "4     0\n",
      "5     0\n",
      "6     0\n",
      "7     0\n",
      "8     0\n",
      "9     0\n",
      "10    0\n",
      "11    0\n",
      "12    0\n",
      "13    0\n",
      "14    0\n",
      "15    0\n",
      "16    0\n",
      "17    0\n",
      "18    0\n",
      "19    0\n",
      "20    0\n",
      "21    0\n",
      "22    0\n",
      "23    0\n",
      "24    0\n",
      "25    0\n",
      "26    0\n",
      "27    0\n",
      "28    0\n",
      "29    0\n",
      "30    0\n",
      "31    0\n",
      "Name: Is_Mazda, dtype: int64\n"
     ]
    }
   ],
   "source": [
    "\n",
    "df['Is_Mazda'] = df['Car_brand'].apply(lambda x: 1 if x == 'Mazda' else 0)\n",
    "df['Is_Datsun'] = df['Car_brand'].apply(lambda x: 1 if x == 'Datsun' else 0)\n",
    "df['Is_Hornet'] = df['Car_brand'].apply(lambda x: 1 if x == 'Hornet' else 0)\n",
    "df['Is_Valiant'] = df['Car_brand'].apply(lambda x: 1 if x == 'Valiant' else 0)\n",
    "df['Is_Duster'] = df['Car_brand'].apply(lambda x: 1 if x == 'Duster' else 0)\n",
    "df['Is_Merc'] = df['Car_brand'].apply(lambda x: 1 if x == 'Merc' else 0)\n",
    "df['Is_Cadillac'] = df['Car_brand'].apply(lambda x: 1 if x == 'Cadillac' else 0)\n",
    "df['Is_Lincoln'] = df['Car_brand'].apply(lambda x: 1 if x == 'Lincoln' else 0)\n",
    "df['Is_Chrysler'] = df['Car_brand'].apply(lambda x: 1 if x == 'Chrysler' else 0)\n",
    "df['Is_Fiat'] = df['Car_brand'].apply(lambda x: 1 if x == 'Fiat' else 0)\n",
    "df['Is_Honda'] = df['Car_brand'].apply(lambda x: 1 if x == 'Honda' else 0)\n",
    "df['Is_Toyota'] = df['Car_brand'].apply(lambda x: 1 if x == 'Toyota' else 0)\n",
    "df['Is_Dodge'] = df['Car_brand'].apply(lambda x: 1 if x == 'Dodge' else 0)\n",
    "df['Is_AMC'] = df['Car_brand'].apply(lambda x: 1 if x == 'AMC' else 0)\n",
    "df['Is_Camaro'] = df['Car_brand'].apply(lambda x: 1 if x == 'Camaro' else 0)\n",
    "df['Is_Ford'] = df['Car_brand'].apply(lambda x: 1 if x == 'Ford' else 0)\n",
    "df['Is_Lotus'] = df['Car_brand'].apply(lambda x: 1 if x == 'Lotus' else 0)\n",
    "df['Is_Pontiac'] = df['Car_brand'].apply(lambda x: 1 if x == 'Pontiac' else 0)\n",
    "df['Is_Porsche'] = df['Car_brand'].apply(lambda x: 1 if x == 'Porsche' else 0)\n",
    "df['Is_Maserati'] = df['Car_brand'].apply(lambda x: 1 if x == 'Maserati' else 0)\n",
    "df['Is_Ferrari'] = df['Car_brand'].apply(lambda x: 1 if x == 'Ferrari' else 0)\n",
    "df['Is_Volvo'] = df['Car_brand'].apply(lambda x: 1 if x == 'Volvo' else 0)\n",
    "\n",
    "#Creating dummy variables so can apply a numeric to a categorical variable"
   ]
  },
  {
   "cell_type": "code",
   "execution_count": 29,
   "metadata": {
    "collapsed": false
   },
   "outputs": [
    {
     "data": {
      "image/png": "[encoded data removed]",
      "text/plain": [
       "<matplotlib.figure.Figure at 0x10d69e810>"
      ]
     },
     "metadata": {},
     "output_type": "display_data"
    },
    {
     "name": "stdout",
     "output_type": "stream",
     "text": [
      "19.2\n",
      "6.02694805209\n"
     ]
    }
   ],
   "source": [
    "#plotting a histogram of the different mpgs\n",
    "import matplotlib.pyplot as plt\n",
    "plt.figure();\n",
    "df[\"mpg\"].plot.hist(alpha=0.5)\n",
    "plt.show()\n",
    "print df[\"mpg\"].median()\n",
    "print df[\"mpg\"].std()"
   ]
  },
  {
   "cell_type": "code",
   "execution_count": 30,
   "metadata": {
    "collapsed": false
   },
   "outputs": [
    {
     "data": {
      "image/png": "[encoded data removed]",
      "text/plain": [
       "<matplotlib.figure.Figure at 0x1117bedd0>"
      ]
     },
     "metadata": {},
     "output_type": "display_data"
    },
    {
     "data": {
      "text/html": [
       "<div>\n",
       "<table border=\"1\" class=\"dataframe\">\n",
       "  <thead>\n",
       "    <tr style=\"text-align: right;\">\n",
       "      <th></th>\n",
       "      <th>mpg</th>\n",
       "      <th>wt</th>\n",
       "    </tr>\n",
       "  </thead>\n",
       "  <tbody>\n",
       "    <tr>\n",
       "      <th>mpg</th>\n",
       "      <td>1.000000</td>\n",
       "      <td>-0.867659</td>\n",
       "    </tr>\n",
       "    <tr>\n",
       "      <th>wt</th>\n",
       "      <td>-0.867659</td>\n",
       "      <td>1.000000</td>\n",
       "    </tr>\n",
       "  </tbody>\n",
       "</table>\n",
       "</div>"
      ],
      "text/plain": [
       "          mpg        wt\n",
       "mpg  1.000000 -0.867659\n",
       "wt  -0.867659  1.000000"
      ]
     },
     "execution_count": 30,
     "metadata": {},
     "output_type": "execute_result"
    }
   ],
   "source": [
    "#plotting a scatterplot of mpg and weight, expect there to be a negative correlation\n",
    "x = df['mpg']\n",
    "y = df['wt']\n",
    "plt.scatter(x,y)\n",
    "plt.show()\n",
    "df[['mpg','wt']].corr()"
   ]
  },
  {
   "cell_type": "code",
   "execution_count": 31,
   "metadata": {
    "collapsed": false
   },
   "outputs": [
    {
     "data": {
      "text/html": [
       "<div>\n",
       "<table border=\"1\" class=\"dataframe\">\n",
       "  <thead>\n",
       "    <tr style=\"text-align: right;\">\n",
       "      <th></th>\n",
       "      <th>mpg</th>\n",
       "      <th>cyl</th>\n",
       "      <th>disp</th>\n",
       "      <th>hp</th>\n",
       "      <th>drat</th>\n",
       "      <th>wt</th>\n",
       "      <th>qsec</th>\n",
       "      <th>vs</th>\n",
       "      <th>am</th>\n",
       "      <th>gear</th>\n",
       "      <th>carb</th>\n",
       "      <th>vs2</th>\n",
       "    </tr>\n",
       "  </thead>\n",
       "  <tbody>\n",
       "    <tr>\n",
       "      <th>mpg</th>\n",
       "      <td>1.000000</td>\n",
       "      <td>-0.852162</td>\n",
       "      <td>-0.847551</td>\n",
       "      <td>-0.776168</td>\n",
       "      <td>0.681172</td>\n",
       "      <td>-0.867659</td>\n",
       "      <td>0.418684</td>\n",
       "      <td>0.664039</td>\n",
       "      <td>0.599832</td>\n",
       "      <td>0.480285</td>\n",
       "      <td>-0.550925</td>\n",
       "      <td>0.664039</td>\n",
       "    </tr>\n",
       "    <tr>\n",
       "      <th>cyl</th>\n",
       "      <td>-0.852162</td>\n",
       "      <td>1.000000</td>\n",
       "      <td>0.902033</td>\n",
       "      <td>0.832447</td>\n",
       "      <td>-0.699938</td>\n",
       "      <td>0.782496</td>\n",
       "      <td>-0.591242</td>\n",
       "      <td>-0.810812</td>\n",
       "      <td>-0.522607</td>\n",
       "      <td>-0.492687</td>\n",
       "      <td>0.526988</td>\n",
       "      <td>-0.810812</td>\n",
       "    </tr>\n",
       "    <tr>\n",
       "      <th>disp</th>\n",
       "      <td>-0.847551</td>\n",
       "      <td>0.902033</td>\n",
       "      <td>1.000000</td>\n",
       "      <td>0.790949</td>\n",
       "      <td>-0.710214</td>\n",
       "      <td>0.887980</td>\n",
       "      <td>-0.433698</td>\n",
       "      <td>-0.710416</td>\n",
       "      <td>-0.591227</td>\n",
       "      <td>-0.555569</td>\n",
       "      <td>0.394977</td>\n",
       "      <td>-0.710416</td>\n",
       "    </tr>\n",
       "    <tr>\n",
       "      <th>hp</th>\n",
       "      <td>-0.776168</td>\n",
       "      <td>0.832447</td>\n",
       "      <td>0.790949</td>\n",
       "      <td>1.000000</td>\n",
       "      <td>-0.448759</td>\n",
       "      <td>0.658748</td>\n",
       "      <td>-0.708223</td>\n",
       "      <td>-0.723097</td>\n",
       "      <td>-0.243204</td>\n",
       "      <td>-0.125704</td>\n",
       "      <td>0.749812</td>\n",
       "      <td>-0.723097</td>\n",
       "    </tr>\n",
       "    <tr>\n",
       "      <th>drat</th>\n",
       "      <td>0.681172</td>\n",
       "      <td>-0.699938</td>\n",
       "      <td>-0.710214</td>\n",
       "      <td>-0.448759</td>\n",
       "      <td>1.000000</td>\n",
       "      <td>-0.712441</td>\n",
       "      <td>0.091205</td>\n",
       "      <td>0.440278</td>\n",
       "      <td>0.712711</td>\n",
       "      <td>0.699610</td>\n",
       "      <td>-0.090790</td>\n",
       "      <td>0.440278</td>\n",
       "    </tr>\n",
       "    <tr>\n",
       "      <th>wt</th>\n",
       "      <td>-0.867659</td>\n",
       "      <td>0.782496</td>\n",
       "      <td>0.887980</td>\n",
       "      <td>0.658748</td>\n",
       "      <td>-0.712441</td>\n",
       "      <td>1.000000</td>\n",
       "      <td>-0.174716</td>\n",
       "      <td>-0.554916</td>\n",
       "      <td>-0.692495</td>\n",
       "      <td>-0.583287</td>\n",
       "      <td>0.427606</td>\n",
       "      <td>-0.554916</td>\n",
       "    </tr>\n",
       "    <tr>\n",
       "      <th>qsec</th>\n",
       "      <td>0.418684</td>\n",
       "      <td>-0.591242</td>\n",
       "      <td>-0.433698</td>\n",
       "      <td>-0.708223</td>\n",
       "      <td>0.091205</td>\n",
       "      <td>-0.174716</td>\n",
       "      <td>1.000000</td>\n",
       "      <td>0.744535</td>\n",
       "      <td>-0.229861</td>\n",
       "      <td>-0.212682</td>\n",
       "      <td>-0.656249</td>\n",
       "      <td>0.744535</td>\n",
       "    </tr>\n",
       "    <tr>\n",
       "      <th>vs</th>\n",
       "      <td>0.664039</td>\n",
       "      <td>-0.810812</td>\n",
       "      <td>-0.710416</td>\n",
       "      <td>-0.723097</td>\n",
       "      <td>0.440278</td>\n",
       "      <td>-0.554916</td>\n",
       "      <td>0.744535</td>\n",
       "      <td>1.000000</td>\n",
       "      <td>0.168345</td>\n",
       "      <td>0.206023</td>\n",
       "      <td>-0.569607</td>\n",
       "      <td>1.000000</td>\n",
       "    </tr>\n",
       "    <tr>\n",
       "      <th>am</th>\n",
       "      <td>0.599832</td>\n",
       "      <td>-0.522607</td>\n",
       "      <td>-0.591227</td>\n",
       "      <td>-0.243204</td>\n",
       "      <td>0.712711</td>\n",
       "      <td>-0.692495</td>\n",
       "      <td>-0.229861</td>\n",
       "      <td>0.168345</td>\n",
       "      <td>1.000000</td>\n",
       "      <td>0.794059</td>\n",
       "      <td>0.057534</td>\n",
       "      <td>0.168345</td>\n",
       "    </tr>\n",
       "    <tr>\n",
       "      <th>gear</th>\n",
       "      <td>0.480285</td>\n",
       "      <td>-0.492687</td>\n",
       "      <td>-0.555569</td>\n",
       "      <td>-0.125704</td>\n",
       "      <td>0.699610</td>\n",
       "      <td>-0.583287</td>\n",
       "      <td>-0.212682</td>\n",
       "      <td>0.206023</td>\n",
       "      <td>0.794059</td>\n",
       "      <td>1.000000</td>\n",
       "      <td>0.274073</td>\n",
       "      <td>0.206023</td>\n",
       "    </tr>\n",
       "    <tr>\n",
       "      <th>carb</th>\n",
       "      <td>-0.550925</td>\n",
       "      <td>0.526988</td>\n",
       "      <td>0.394977</td>\n",
       "      <td>0.749812</td>\n",
       "      <td>-0.090790</td>\n",
       "      <td>0.427606</td>\n",
       "      <td>-0.656249</td>\n",
       "      <td>-0.569607</td>\n",
       "      <td>0.057534</td>\n",
       "      <td>0.274073</td>\n",
       "      <td>1.000000</td>\n",
       "      <td>-0.569607</td>\n",
       "    </tr>\n",
       "    <tr>\n",
       "      <th>vs2</th>\n",
       "      <td>0.664039</td>\n",
       "      <td>-0.810812</td>\n",
       "      <td>-0.710416</td>\n",
       "      <td>-0.723097</td>\n",
       "      <td>0.440278</td>\n",
       "      <td>-0.554916</td>\n",
       "      <td>0.744535</td>\n",
       "      <td>1.000000</td>\n",
       "      <td>0.168345</td>\n",
       "      <td>0.206023</td>\n",
       "      <td>-0.569607</td>\n",
       "      <td>1.000000</td>\n",
       "    </tr>\n",
       "  </tbody>\n",
       "</table>\n",
       "</div>"
      ],
      "text/plain": [
       "           mpg       cyl      disp        hp      drat        wt      qsec  \\\n",
       "mpg   1.000000 -0.852162 -0.847551 -0.776168  0.681172 -0.867659  0.418684   \n",
       "cyl  -0.852162  1.000000  0.902033  0.832447 -0.699938  0.782496 -0.591242   \n",
       "disp -0.847551  0.902033  1.000000  0.790949 -0.710214  0.887980 -0.433698   \n",
       "hp   -0.776168  0.832447  0.790949  1.000000 -0.448759  0.658748 -0.708223   \n",
       "drat  0.681172 -0.699938 -0.710214 -0.448759  1.000000 -0.712441  0.091205   \n",
       "wt   -0.867659  0.782496  0.887980  0.658748 -0.712441  1.000000 -0.174716   \n",
       "qsec  0.418684 -0.591242 -0.433698 -0.708223  0.091205 -0.174716  1.000000   \n",
       "vs    0.664039 -0.810812 -0.710416 -0.723097  0.440278 -0.554916  0.744535   \n",
       "am    0.599832 -0.522607 -0.591227 -0.243204  0.712711 -0.692495 -0.229861   \n",
       "gear  0.480285 -0.492687 -0.555569 -0.125704  0.699610 -0.583287 -0.212682   \n",
       "carb -0.550925  0.526988  0.394977  0.749812 -0.090790  0.427606 -0.656249   \n",
       "vs2   0.664039 -0.810812 -0.710416 -0.723097  0.440278 -0.554916  0.744535   \n",
       "\n",
       "            vs        am      gear      carb       vs2  \n",
       "mpg   0.664039  0.599832  0.480285 -0.550925  0.664039  \n",
       "cyl  -0.810812 -0.522607 -0.492687  0.526988 -0.810812  \n",
       "disp -0.710416 -0.591227 -0.555569  0.394977 -0.710416  \n",
       "hp   -0.723097 -0.243204 -0.125704  0.749812 -0.723097  \n",
       "drat  0.440278  0.712711  0.699610 -0.090790  0.440278  \n",
       "wt   -0.554916 -0.692495 -0.583287  0.427606 -0.554916  \n",
       "qsec  0.744535 -0.229861 -0.212682 -0.656249  0.744535  \n",
       "vs    1.000000  0.168345  0.206023 -0.569607  1.000000  \n",
       "am    0.168345  1.000000  0.794059  0.057534  0.168345  \n",
       "gear  0.206023  0.794059  1.000000  0.274073  0.206023  \n",
       "carb -0.569607  0.057534  0.274073  1.000000 -0.569607  \n",
       "vs2   1.000000  0.168345  0.206023 -0.569607  1.000000  "
      ]
     },
     "execution_count": 31,
     "metadata": {},
     "output_type": "execute_result"
    }
   ],
   "source": [
    "df.corr()"
   ]
  },
  {
   "cell_type": "code",
   "execution_count": 18,
   "metadata": {
    "collapsed": false
   },
   "outputs": [
    {
     "data": {
      "image/png": "[encoded data removed]",
      "text/plain": [
       "<matplotlib.figure.Figure at 0x1176bd550>"
      ]
     },
     "metadata": {},
     "output_type": "display_data"
    },
    {
     "data": {
      "text/html": [
       "<div>\n",
       "<table border=\"1\" class=\"dataframe\">\n",
       "  <thead>\n",
       "    <tr style=\"text-align: right;\">\n",
       "      <th></th>\n",
       "      <th>vs</th>\n",
       "      <th>qsec</th>\n",
       "    </tr>\n",
       "  </thead>\n",
       "  <tbody>\n",
       "    <tr>\n",
       "      <th>vs</th>\n",
       "      <td>1.000000</td>\n",
       "      <td>0.744535</td>\n",
       "    </tr>\n",
       "    <tr>\n",
       "      <th>qsec</th>\n",
       "      <td>0.744535</td>\n",
       "      <td>1.000000</td>\n",
       "    </tr>\n",
       "  </tbody>\n",
       "</table>\n",
       "</div>"
      ],
      "text/plain": [
       "            vs      qsec\n",
       "vs    1.000000  0.744535\n",
       "qsec  0.744535  1.000000"
      ]
     },
     "execution_count": 18,
     "metadata": {},
     "output_type": "execute_result"
    }
   ],
   "source": [
    "x = df['vs']\n",
    "y = df['qsec']\n",
    "plt.scatter(x,y)\n",
    "plt.show()\n",
    "df[['vs','qsec']].corr()\n",
    "#v=1 cars are generally slower."
   ]
  },
  {
   "cell_type": "code",
   "execution_count": null,
   "metadata": {
    "collapsed": true
   },
   "outputs": [],
   "source": [
    "#ways to expand investigation: look at car cost data, see what factors influence the value of the car the most"
   ]
  }
 ],
 "metadata": {
  "kernelspec": {
   "display_name": "Python 2",
   "language": "python",
   "name": "python2"
  },
  "language_info": {
   "codemirror_mode": {
    "name": "ipython",
    "version": 2
   },
   "file_extension": ".py",
   "mimetype": "text/x-python",
   "name": "python",
   "nbconvert_exporter": "python",
   "pygments_lexer": "ipython2",
   "version": "2.7.13"
  }
 },
 "nbformat": 4,
 "nbformat_minor": 2
}
